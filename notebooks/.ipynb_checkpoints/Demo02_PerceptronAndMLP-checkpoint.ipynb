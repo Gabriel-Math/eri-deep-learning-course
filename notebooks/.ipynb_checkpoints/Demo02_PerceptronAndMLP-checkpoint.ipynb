{
 "cells": [
  {
   "cell_type": "markdown",
   "metadata": {},
   "source": [
    "# DEMO #2 Perceptron e Multi-layer Perceptron\n",
    "\n",
    "## Implementação em Keras do Perceptron e Multi-layer Perceptron"
   ]
  },
  {
   "cell_type": "code",
   "execution_count": null,
   "metadata": {},
   "outputs": [],
   "source": [
    "# testamos a instalação importando as ferramentas\n",
    "%matplotlib inline\n",
    "import tensorflow as tf\n",
    "import numpy as np\n",
    "import keras\n",
    "import sklearn\n",
    "import matplotlib.pyplot as plt"
   ]
  },
  {
   "cell_type": "markdown",
   "metadata": {},
   "source": [
    "### Dados de Entrada"
   ]
  },
  {
   "cell_type": "code",
   "execution_count": null,
   "metadata": {},
   "outputs": [],
   "source": [
    "# load dataset\n",
    "from keras.datasets import mnist\n",
    "(x_train, y_train), (x_test, y_test) = mnist.load_data()"
   ]
  },
  {
   "cell_type": "code",
   "execution_count": null,
   "metadata": {},
   "outputs": [],
   "source": [
    "# plot some samples from the dataset\n",
    "plt.imshow(np.concatenate((x_train[0:5]), axis=1))"
   ]
  },
  {
   "cell_type": "markdown",
   "metadata": {},
   "source": [
    "### Extração de Características"
   ]
  },
  {
   "cell_type": "code",
   "execution_count": null,
   "metadata": {},
   "outputs": [],
   "source": [
    "def extract_mean_pixel(x):\n",
    "    mean_pixel = np.mean(x)\n",
    "    return mean_pixel"
   ]
  },
  {
   "cell_type": "code",
   "execution_count": null,
   "metadata": {},
   "outputs": [],
   "source": [
    "# let's first reshape our images so that they become vectors\n",
    "x_train = x_train.reshape((-1, 784))\n",
    "x_test = x_test.reshape((-1, 784))\n",
    "\n",
    "# extract features from each sample\n",
    "training_features = np.array([[extract_mean_pixel(x)] for x in x_train])\n",
    "testing_features = np.array([[extract_mean_pixel(x)] for x in x_test])\n",
    "\n",
    "print(training_features)"
   ]
  },
  {
   "cell_type": "markdown",
   "metadata": {},
   "source": [
    "### Perceptron\n",
    "\n",
    "Vamos implementar um simples perceptron"
   ]
  },
  {
   "cell_type": "code",
   "execution_count": null,
   "metadata": {},
   "outputs": [],
   "source": [
    "# import relevant classes from keras\n",
    "from keras.layers import Input, Dense as HiddenLayer, Dense as OutputLayer\n",
    "from keras.models import Model\n",
    "\n",
    "# our input placeholder\n",
    "data_input = Input(shape=(784,))\n",
    "\n",
    "# a hidden layer with 100 neurons\n",
    "hidden_output = HiddenLayer(10, activation='sigmoid')(data_input)\n",
    "\n",
    "# the output with its single neuron\n",
    "output = OutputLayer(1, activation='linear')(hidden_output)\n",
    "\n",
    "# wrap up the model\n",
    "perceptron = Model(data_input, output)\n",
    "\n",
    "optimizer = keras.optimizers.SGD(lr=0.001)\n",
    "perceptron.compile(optimizer=optimizer, loss='mean_squared_error')"
   ]
  },
  {
   "cell_type": "markdown",
   "metadata": {},
   "source": [
    "Treinar com nossos dados de treinamento:"
   ]
  },
  {
   "cell_type": "code",
   "execution_count": null,
   "metadata": {},
   "outputs": [],
   "source": [
    "perceptron.fit(\n",
    "    x_train, y_train,\n",
    "    epochs=50,\n",
    "    batch_size=128,\n",
    "    shuffle=True,\n",
    "    validation_data=(x_test, y_test)\n",
    ")"
   ]
  },
  {
   "cell_type": "markdown",
   "metadata": {},
   "source": [
    "### Multi-layer Perceptron"
   ]
  },
  {
   "cell_type": "code",
   "execution_count": null,
   "metadata": {},
   "outputs": [],
   "source": [
    "# input placeholder\n",
    "data_input = Input(shape=(784,))\n",
    "\n",
    "# a hidden layer with 10 neurons\n",
    "hidden_output = HiddenLayer(10, activation='sigmoid')(data_input)\n",
    "\n",
    "# another hidden layer with 10 neurons\n",
    "hidden_output = HiddenLayer(10, activation='sigmoid')(hidden_output)\n",
    "\n",
    "# the output with its single neuron\n",
    "output = OutputLayer(1, activation='linear')(hidden_output)\n",
    "\n",
    "# wrap up the model\n",
    "perceptron = Model(data_input, output)\n",
    "\n",
    "optimizer = keras.optimizers.SGD(lr=0.001)\n",
    "perceptron.compile(optimizer=optimizer, loss='mean_squared_error')"
   ]
  },
  {
   "cell_type": "markdown",
   "metadata": {},
   "source": [
    "Treinar com nossos dados de treinamento:"
   ]
  },
  {
   "cell_type": "code",
   "execution_count": null,
   "metadata": {
    "scrolled": false
   },
   "outputs": [],
   "source": [
    "perceptron.fit(\n",
    "    x_train, y_train,\n",
    "    epochs=50,\n",
    "    batch_size=128,\n",
    "    shuffle=True,\n",
    "    validation_data=(x_test, y_test)\n",
    ")"
   ]
  }
 ],
 "metadata": {
  "kernelspec": {
   "display_name": "Python 3",
   "language": "python",
   "name": "python3"
  },
  "language_info": {
   "codemirror_mode": {
    "name": "ipython",
    "version": 3
   },
   "file_extension": ".py",
   "mimetype": "text/x-python",
   "name": "python",
   "nbconvert_exporter": "python",
   "pygments_lexer": "ipython3",
   "version": "3.6.4"
  }
 },
 "nbformat": 4,
 "nbformat_minor": 2
}
